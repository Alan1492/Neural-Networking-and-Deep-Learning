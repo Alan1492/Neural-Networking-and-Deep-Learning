{
  "nbformat": 4,
  "nbformat_minor": 0,
  "metadata": {
    "colab": {
      "provenance": []
    },
    "kernelspec": {
      "name": "python3",
      "display_name": "Python 3"
    },
    "language_info": {
      "name": "python"
    }
  },
  "cells": [
    {
      "cell_type": "code",
      "source": [
        "#Loading the essential libraries\n",
        "import numpy as np\n",
        "import matplotlib.pyplot as plt\n",
        "\n",
        "def train_perceptron(X, y):\n",
        "   #learning rate (lr)this determines how big of an adjustment it makes to these values after each error.\n",
        "    lr = 0.1\n",
        "   #iteration no (n_iter)this is also know as epochs it tell how many times the learning algorithm will work through the entire training dataset\n",
        "    n_iter = 20\n",
        "\n",
        "    # We start with no knowledge - weights and bias are zero. The weights determine how much importance the model gives to each input.\n",
        "    #By initializing them to [0.0, 0.0], we are telling the model to start with the assumption that all inputs are equally unimportant.\n",
        "    #It has no initial preference for input 1 or input 2.\n",
        "    #The bias acts like a general threshold that helps the model make a decision.\n",
        "    #Starting it at zero provides a neutral baseline making it either inherently easy nor hard for the model to output a 1\n",
        "    weights = np.zeros(X.shape[1])\n",
        "    bias = 0.0\n",
        "\n",
        "    # training loop.\n",
        "    for _ in range(n_iter):\n",
        "        # Go through each example (input/output pair)\n",
        "        for i in range(len(X)):\n",
        "            # Calculating the weighted sum\n",
        "            prediction_raw = np.dot(X[i], weights) + bias\n",
        "\n",
        "            # Using a step function to decide the output: 0 or 1\n",
        "            #If the raw score is positive or exactly zero, the neuron \"fires,\" and its output is 1.\n",
        "            #If the raw score is negative, the neuron does not fire, and its output is 0\n",
        "            prediction = 1 if prediction_raw >= 0 else 0\n",
        "\n",
        "            # Figure out the error. If we were right, error is 0.\n",
        "            error = y[i] - prediction\n",
        "\n",
        "            # Update the weights and bias to correct the mistake.No update if the error is 0.\n",
        "            weights += lr * error * X[i]\n",
        "            bias += lr * error\n",
        "\n",
        "    #returning what the model has learned\n",
        "    return weights, bias\n",
        "\n"
      ],
      "outputs": [],
      "execution_count": null,
      "metadata": {
        "id": "AGcyHAX36PSM"
      }
    },
    {
      "cell_type": "code",
      "source": [
        "\n",
        "# Here we are defining the dataset for all the logic gates\n",
        "# The inputs are the same for all gates.\n",
        "inputs = np.array([\n",
        "    [0, 0], [0, 1], [1, 0], [1, 1]\n",
        "])\n",
        "\n",
        "# The expected output for each gate.\n",
        "gate_outputs = {\n",
        "    \"AND\": np.array([0, 0, 0, 1]),\n",
        "    \"OR\":  np.array([0, 1, 1, 1]),\n",
        "    \"AND-NOT\": np.array([0, 0, 1, 0]),\n",
        "    \"XOR\": np.array([0, 1, 1, 0])\n",
        "}"
      ],
      "metadata": {
        "id": "kCut1GRC8s-K"
      },
      "execution_count": null,
      "outputs": []
    },
    {
      "cell_type": "code",
      "source": [
        "#2. Now, let's train and test a perceptron for each gate.\n",
        "for gate_name, outputs in gate_outputs.items():\n",
        "    print(f\"\\n################################\")\n",
        "    print(f\"  Training for {gate_name} Gate\")\n",
        "    print(f\"##################################\")\n",
        "\n",
        "    # Train the model and getting the knowledge\n",
        "    trained_weights, trained_bias = train_perceptron(inputs, outputs)\n",
        "\n",
        "    print(f\"Learned Weights: {np.round(trained_weights, 2)}\")\n",
        "    print(f\"Learned Bias: {np.round(trained_bias, 2)}\")\n",
        "    print(\"#######Testing Results##########\")\n",
        "\n",
        "  #observing how well the model has learned\n",
        "    correct_count = 0\n",
        "    for i in range(len(inputs)):\n",
        "        # Make a prediction using the learned weights and bias\n",
        "        final_prediction_raw = np.dot(inputs[i], trained_weights) + trained_bias\n",
        "        final_prediction = 1 if final_prediction_raw >= 0 else 0\n",
        "\n",
        "        if final_prediction == outputs[i]:\n",
        "            correct_count += 1\n",
        "\n",
        "        print(f\"Input {inputs[i]} ==> Predicted: {final_prediction} (Actual: {outputs[i]})\")\n",
        "    #calculating the accuracy of the model percentage of time the model predicted the correct answer\n",
        "    accuracy = (correct_count / len(inputs)) * 100\n",
        "    print(f\"Accuracy: {accuracy}%\\n\")"
      ],
      "metadata": {
        "colab": {
          "base_uri": "https://localhost:8080/"
        },
        "id": "1_vEFGdY95Xp",
        "outputId": "48bd1c3e-b123-4215-f451-748b978754e3"
      },
      "execution_count": null,
      "outputs": [
        {
          "output_type": "stream",
          "name": "stdout",
          "text": [
            "\n",
            "################################\n",
            "  Training for AND Gate\n",
            "##################################\n",
            "Learned Weights: [0.2 0.1]\n",
            "Learned Bias: -0.2\n",
            "#######Testing Results##########\n",
            "Input [0 0] ==> Predicted: 0 (Actual: 0)\n",
            "Input [0 1] ==> Predicted: 0 (Actual: 0)\n",
            "Input [1 0] ==> Predicted: 0 (Actual: 0)\n",
            "Input [1 1] ==> Predicted: 1 (Actual: 1)\n",
            "Accuracy: 100.0%\n",
            "\n",
            "\n",
            "################################\n",
            "  Training for OR Gate\n",
            "##################################\n",
            "Learned Weights: [0.1 0.1]\n",
            "Learned Bias: -0.1\n",
            "#######Testing Results##########\n",
            "Input [0 0] ==> Predicted: 0 (Actual: 0)\n",
            "Input [0 1] ==> Predicted: 1 (Actual: 1)\n",
            "Input [1 0] ==> Predicted: 1 (Actual: 1)\n",
            "Input [1 1] ==> Predicted: 1 (Actual: 1)\n",
            "Accuracy: 100.0%\n",
            "\n",
            "\n",
            "################################\n",
            "  Training for AND-NOT Gate\n",
            "##################################\n",
            "Learned Weights: [ 0.1 -0.2]\n",
            "Learned Bias: -0.1\n",
            "#######Testing Results##########\n",
            "Input [0 0] ==> Predicted: 0 (Actual: 0)\n",
            "Input [0 1] ==> Predicted: 0 (Actual: 0)\n",
            "Input [1 0] ==> Predicted: 1 (Actual: 1)\n",
            "Input [1 1] ==> Predicted: 0 (Actual: 0)\n",
            "Accuracy: 100.0%\n",
            "\n",
            "\n",
            "################################\n",
            "  Training for XOR Gate\n",
            "##################################\n",
            "Learned Weights: [-0.1  0. ]\n",
            "Learned Bias: 0.0\n",
            "#######Testing Results##########\n",
            "Input [0 0] ==> Predicted: 1 (Actual: 0)\n",
            "Input [0 1] ==> Predicted: 1 (Actual: 1)\n",
            "Input [1 0] ==> Predicted: 0 (Actual: 1)\n",
            "Input [1 1] ==> Predicted: 0 (Actual: 0)\n",
            "Accuracy: 50.0%\n",
            "\n"
          ]
        }
      ]
    },
    {
      "cell_type": "code",
      "source": [
        "# 3 A plot to show XOR the problem\n",
        "y_xor = gate_outputs[\"XOR\"]\n",
        "plt.figure(figsize=(5, 4))\n",
        "plt.scatter(inputs[y_xor==0, 0], inputs[y_xor==0, 1], c='red', marker='o', s=100, label='Output 0')\n",
        "plt.scatter(inputs[y_xor==1, 0], inputs[y_xor==1, 1], c='blue', marker='x', s=100, label='Output 1')\n",
        "plt.title(\"XOR Problem Space\")\n",
        "plt.xlabel(\"Input A\")\n",
        "plt.ylabel(\"Input B\")\n",
        "plt.legend()\n",
        "plt.grid(True)\n",
        "plt.show()\n",
        "print(\"\"\"The reason for the failure caused is that the perceptron can't find a single line to separate the 0s from the 1s,\n",
        "In simple words we can say that this is a classical example non-linearly separable problem\"\"\")"
      ],
      "outputs": [
        {
          "output_type": "display_data",
          "data": {
            "text/plain": [
              "<Figure size 500x400 with 1 Axes>"
            ],
            "image/png": "[encoded data removed]"
          },
          "metadata": {}
        },
        {
          "output_type": "stream",
          "name": "stdout",
          "text": [
            "The reason for the failure caused is that the perceptron can't find a single line to separate the 0s from the 1s,\n",
            "In simple words we can say that this is a classical example non-linearly separable problem\n"
          ]
        }
      ],
      "execution_count": null,
      "metadata": {
        "colab": {
          "base_uri": "https://localhost:8080/",
          "height": 446
        },
        "outputId": "15a68253-4e2f-4aa1-f9e6-b052a12e22c7",
        "id": "pg66-ObcEPj2"
      }
    },
    {
      "cell_type": "markdown",
      "source": [
        "\n",
        "###1.How do the weights and bias values change during training for the AND gate?\n",
        "The weights and bias start at 0.0. During training, the perceptron looks at each input pair. If a mistake happens,weights and bias are being adjusted to correct that error. For the AND gate, it learns that the both inputs are eing important. The final trained values from your code are weights: [0.2 0.1] and bias: -0.2. The positive weights show that both inputs contribute to a (1) output, while the negative bias acts as a threshold, making sure that the output is only 1 when both inputs are 1.\n",
        "\n",
        "###2.Can the perceptron successfully learn the AND logic with a linear decision boundary?\n",
        "Yes, The code shows an accuracy of 100.0%. This is because the AND gate is a linearly separable problem. You can draw a single straight line on a graph to separate the input points that result in a (0)from the one point ([1, 1]) that results in a (1).\n",
        "\n",
        "###3.What changes in the perceptron's weights are necessary to represent the OR gate logic?\n",
        "To represent the OR gate, the perceptron is needed to learn that if at least one input is 1, the output should be 1. We can see from the code that the learned weights are: [0.1 0.1] and the  bias: -0.1. Similar to the AND gate, the weights are positive. However, the bias is less negative (-0.1 for OR compared to that of -0.2 for AND). This lower value makes it easier for the neuron to activate, allowing it to output 1 even if only one input is active.\n",
        "\n",
        "###4.How does the linear decision boundary look for the OR gate classification?\n",
        "The decision boundary is a straight line that separates the [0, 0] input (output 0) from the other three inputs (output 1).\n",
        "\n",
        "###5.What is the perceptron's weight configuration after training for the AND-NOT gate?\n",
        "The AND-NOT gate outputs 1, only when the first input is 1 and the second is input is 0. The weights we obtained while training are : [ 0.1 -0.2] and bias: -0.1. Notice that the weight for the first input is positive (encouraging a 1 output) while the weight for the second input is negative (discouraging a 1 output).\n",
        "\n",
        "###6.How does the perceptron handle cases where both inputs are 1 or 0?\n",
        "It handles them correctly by using the negative weight for the second input.\n",
        "Input [1, 1]: The negative weight (-0.2) for the second input cancels out the positive weight from the first input, resulting in a negative sum. The prediction is correctly 0.Input [0, 0]: With no positive input, the negative bias ensures the result is negative.That is 0\n",
        "\n",
        "###7.Why does the Single Layer Perceptron struggle to classify the XOR gate?\n",
        "The Single Layer Perceptron fails because the XOR gate is not linearly separable. That is we cannot draw a single straight line to separate the points that should output 0 ([0,0] and [1,1]) from the points that should output 1 ([0,1] and [1,0]). A single perceptron can only create one straight line, so it  becomes impossible to solve this problem. This is why the accuracy is only 50%\n",
        "\n",
        "###8.What modifications can be made to the neural network model to handle the XOR gate correctly?\n",
        "To solve the XOR problem, the model needs to be able to create a more complex, non-linear decision boundary. This can be achieved in two main ways adding  more Layers instead of a single-layer perceptron, you can use a Multi-Layer Perceptron. By adding a \"hidden layer\" of neurons between the input and output, the network can combine simple lines to form a more complex shape that correctly separates the XOR data. Another method is to use Non-Linear Activation Functions the simple step function used in the perceptron is linear. Using a more advanced, non-linear activation function like Sigmoid or ReLU in a multi-layer network allows it to learn non-linear relationships like the one in the XOR gate."
      ],
      "metadata": {
        "id": "izJHhwQAR1MW"
      }
    }
  ]
}